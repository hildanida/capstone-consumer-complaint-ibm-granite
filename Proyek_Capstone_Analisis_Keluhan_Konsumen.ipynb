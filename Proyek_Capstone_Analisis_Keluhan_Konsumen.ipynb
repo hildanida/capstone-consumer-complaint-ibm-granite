{
  "nbformat": 4,
  "nbformat_minor": 0,
  "metadata": {
    "colab": {
      "provenance": []
    },
    "kernelspec": {
      "name": "python3",
      "display_name": "Python 3"
    },
    "language_info": {
      "name": "python"
    }
  },
  "cells": [
    {
      "cell_type": "markdown",
      "source": [
        "Nama : Hilda Nida </br>\n",
        "# Proyek Capstone: Analisis Keluhan Konsumen Menggunakan AI\n"
      ],
      "metadata": {
        "id": "4lqJawXeqBO1"
      }
    },
    {
      "cell_type": "markdown",
      "source": [
        "## Project Overview\n",
        "\n",
        "Capstone Project ini berfokus pada analisis data keluhan konsumen keuangan di Amerika Serikat yang dianalisis menggunakan model AI IBM Granite untuk klasifikasi dan ringkasan teks. Proyek ini bertujuan untuk menggali *insight* dari data teks yang tidak terstruktur, membantu perusahaan mengidentifikasi tren, masalah berulang, dan mengambil keputusan berbasis data untuk meningkatkan layanan dan kepuasan pelanggan."
      ],
      "metadata": {
        "id": "j_CQeihVqSky"
      }
    },
    {
      "cell_type": "markdown",
      "source": [
        "## Latar Belakang\n",
        "\n",
        "Sebagai seorang manajer produk di perusahaan smartphone (misalnya, SmartTechX), salah satu tanggung jawab kunci adalah menganalisis ulasan pelanggan untuk mengidentifikasi tren sentimen dan area fokus, serta meringkas rapat tim lintas divisi untuk memberikan wawasan yang *actionable* kepada stakeholder. Meskipun otomatisasi telah berhasil diterapkan dalam alur kerja sebelumnya menggunakan model `granite-3.3-8b-instruct`, stakeholder masih menghadapi masalah konsistensi dan presisi output. Hasil klasifikasi seringkali tidak memiliki tagging area fokus yang lengkap, dan ringkasan rapat kadang-kadang melewatkan detail kunci atau struktur yang jelas. Untuk mengatasi tantangan ini, proyek ini akan menyaring output model dengan menyesuaikan parameter kunci, memastikan hasil selaras dengan ekspektasi stakeholder."
      ],
      "metadata": {
        "id": "i2q4Qu7ZqbM_"
      }
    },
    {
      "cell_type": "markdown",
      "source": [
        "## Rumusan Masalah (Challenge)\n",
        "\n",
        "Meskipun otomatisasi telah sukses, para stakeholder mengangkat beberapa masalah terkait output model:\n",
        "\n",
        "- Tugas Klasifikasi: Beberapa output klasifikasi mencakup frasa yang berlebihan atau tidak konsisten. Output juga mengalami tagging area fokus yang tidak lengkap, sehingga memengaruhi kegunaan.\n",
        "\n",
        "- Tugas Ringkasan: Sebagian ringkasan yang dihasilkan masih terlalu generik dan tidak berhasil menyoroti keputusan penting maupun tindak lanjut yang diperlukan. Di samping itu, format output belum sepenuhnya sesuai dengan kebutuhan dan ekspektasi stakeholder."
      ],
      "metadata": {
        "id": "zHyFfpUoUj3N"
      }
    },
    {
      "cell_type": "markdown",
      "source": [
        "## Tujuan Proyek (Objectives)\n",
        "\n",
        "- Menyesuaikan parameter pemodelan pada IBM Granite guna mengarahkan hasil output secara lebih terfokus.\n",
        "- Melakukan analisis terhadap keluhan konsumen sektor keuangan di AS untuk mengidentifikasi pola sentimen dan isu dominan.\n",
        "- Mengelompokkan keluhan ke dalam kategori yang relevan seperti jenis produk, isu utama, dan sentimen dengan memanfaatkan kemampuan klasifikasi dari IBM Granite.\n",
        "- Mengubah narasi keluhan yang panjang menjadi ringkasan yang singkat, padat, dan mudah dipahami menggunakan fitur summarization model.\n",
        "- Menghasilkan insight serta menyusun rekomendasi berdasarkan temuan dari proses klasifikasi dan ringkasan."
      ],
      "metadata": {
        "id": "iXttkeDTVLrd"
      }
    },
    {
      "cell_type": "markdown",
      "source": [
        "## Solusi yang Diusulkan\n",
        "\n",
        "Untuk mengoptimalkan hasil klasifikasi dan ringkasan, model `granite-3.3-8b-instruct` akan dikonfigurasi ulang melalui pendekatan berikut:\n",
        "\n",
        "- Pengaturan max_tokens digunakan untuk mengendalikan panjang output, memastikan hasil tetap ringkas dan relevan dengan konteks.\n",
        "- Eksperimen terhadap parameter seperti `top_k`, `top_p`, `repetition_penalty`, dan `stopping_sequence` dilakukan untuk meningkatkan koherensi, ketepatan isi, serta struktur respons.\n",
        "- Evaluasi dampak setiap penyesuaian akan dilakukan secara iteratif untuk memastikan kesesuaian hasil dengan kebutuhan pengguna dan pemangku kepentingan.\n",
        "\n",
        "Dengan penyesuaian parameter yang tepat, diharapkan model mampu menghasilkan output yang lebih terfokus dan akurat, sehingga mendukung efisiensi operasional dan pengambilan keputusan yang lebih tepat di berbagai lini."
      ],
      "metadata": {
        "id": "URaEOaJQWOHY"
      }
    },
    {
      "cell_type": "markdown",
      "source": [
        "## Gambaran Umum Dataset\n",
        "\n",
        "- **Sumber**: [CFPB Consumer Complaint Database](https://www.consumerfinance.gov/data-research/consumer-complaints/)\n",
        "- **Dataset diupload di kaggle** : [Dataset CFPB Kaggle Hilda Nida](https://www.kaggle.com/datasets/hildanida/us-consumer-financial-complaints-dataset-raw/data)\n",
        "- **Jumlah data**: Lebih dari 1 juta baris data\n",
        "- **Kolom utama**:\n",
        "  - Tanggal diterima\n",
        "  - Produk & Sub-produk\n",
        "  - Masalah & Sub-masalah\n",
        "  - Narasi keluhan\n",
        "  - Respons perusahaan\n",
        "  - Jalur pengajuan, lokasi, kode pos\n",
        "- **Lisensi**: Domain Publik (Data Pemerintah AS)"
      ],
      "metadata": {
        "id": "OGtJjkJCqsIK"
      }
    },
    {
      "cell_type": "markdown",
      "source": [
        "## AI Tools for Data Analytics\n",
        "Proyek ini akan memanfaatkan:\n",
        "\n",
        "- IBM Granite Models: Khususnya ibm-granite/granite-3.3-8b-instruct , yang akan diakses melalui Replicate API.\n",
        "- Google Colab Notebook: Digunakan sebagai lingkungan kerja utama untuk coding Python dan interaksi dengan model AI"
      ],
      "metadata": {
        "id": "bkzlVXS_WxXu"
      }
    },
    {
      "cell_type": "markdown",
      "source": [
        "## Pembersihan & Profiling Data\n"
      ],
      "metadata": {
        "id": "UjcyDjRIrSG3"
      }
    },
    {
      "cell_type": "code",
      "source": [
        "# instalasi\n",
        "!pip install langchain_community replicate google.colab pandas numpy matplotlib seaborn --quiet\n",
        "!pip install ydata-profiling --quiet\n",
        "!pip install kaggle --quiet"
      ],
      "metadata": {
        "id": "9__EpiasXg4s",
        "colab": {
          "base_uri": "https://localhost:8080/"
        },
        "outputId": "8b8c165e-faae-4d8d-a5f5-45061d4f6951"
      },
      "execution_count": 1,
      "outputs": [
        {
          "metadata": {
            "tags": null
          },
          "name": "stdout",
          "output_type": "stream",
          "text": [
            "\u001b[2K   \u001b[90m━━━━━━━━━━━━━━━━━━━━━━━━━━━━━━━━━━━━━━━━\u001b[0m \u001b[32m2.5/2.5 MB\u001b[0m \u001b[31m28.7 MB/s\u001b[0m eta \u001b[36m0:00:00\u001b[0m\n",
            "\u001b[2K   \u001b[90m━━━━━━━━━━━━━━━━━━━━━━━━━━━━━━━━━━━━━━━━\u001b[0m \u001b[32m48.6/48.6 kB\u001b[0m \u001b[31m3.2 MB/s\u001b[0m eta \u001b[36m0:00:00\u001b[0m\n",
            "\u001b[2K   \u001b[90m━━━━━━━━━━━━━━━━━━━━━━━━━━━━━━━━━━━━━━━━\u001b[0m \u001b[32m1.0/1.0 MB\u001b[0m \u001b[31m33.4 MB/s\u001b[0m eta \u001b[36m0:00:00\u001b[0m\n",
            "\u001b[2K   \u001b[90m━━━━━━━━━━━━━━━━━━━━━━━━━━━━━━━━━━━━━━━━\u001b[0m \u001b[32m438.9/438.9 kB\u001b[0m \u001b[31m20.3 MB/s\u001b[0m eta \u001b[36m0:00:00\u001b[0m\n",
            "\u001b[2K   \u001b[90m━━━━━━━━━━━━━━━━━━━━━━━━━━━━━━━━━━━━━━━━\u001b[0m \u001b[32m45.2/45.2 kB\u001b[0m \u001b[31m3.0 MB/s\u001b[0m eta \u001b[36m0:00:00\u001b[0m\n",
            "\u001b[2K   \u001b[90m━━━━━━━━━━━━━━━━━━━━━━━━━━━━━━━━━━━━━━━━\u001b[0m \u001b[32m1.6/1.6 MB\u001b[0m \u001b[31m58.1 MB/s\u001b[0m eta \u001b[36m0:00:00\u001b[0m\n",
            "\u001b[2K   \u001b[90m━━━━━━━━━━━━━━━━━━━━━━━━━━━━━━━━━━━━━━━━\u001b[0m \u001b[32m50.9/50.9 kB\u001b[0m \u001b[31m3.1 MB/s\u001b[0m eta \u001b[36m0:00:00\u001b[0m\n",
            "\u001b[?25h  Preparing metadata (setup.py) ... \u001b[?25l\u001b[?25hdone\n",
            "\u001b[2K   \u001b[90m━━━━━━━━━━━━━━━━━━━━━━━━━━━━━━━━━━━━━━━━\u001b[0m \u001b[32m400.1/400.1 kB\u001b[0m \u001b[31m7.5 MB/s\u001b[0m eta \u001b[36m0:00:00\u001b[0m\n",
            "\u001b[2K   \u001b[90m━━━━━━━━━━━━━━━━━━━━━━━━━━━━━━━━━━━━━━━━\u001b[0m \u001b[32m296.5/296.5 kB\u001b[0m \u001b[31m17.9 MB/s\u001b[0m eta \u001b[36m0:00:00\u001b[0m\n",
            "\u001b[2K   \u001b[90m━━━━━━━━━━━━━━━━━━━━━━━━━━━━━━━━━━━━━━━━\u001b[0m \u001b[32m687.8/687.8 kB\u001b[0m \u001b[31m28.3 MB/s\u001b[0m eta \u001b[36m0:00:00\u001b[0m\n",
            "\u001b[2K   \u001b[90m━━━━━━━━━━━━━━━━━━━━━━━━━━━━━━━━━━━━━━━━\u001b[0m \u001b[32m105.4/105.4 kB\u001b[0m \u001b[31m7.1 MB/s\u001b[0m eta \u001b[36m0:00:00\u001b[0m\n",
            "\u001b[2K   \u001b[90m━━━━━━━━━━━━━━━━━━━━━━━━━━━━━━━━━━━━━━━━\u001b[0m \u001b[32m43.3/43.3 kB\u001b[0m \u001b[31m2.7 MB/s\u001b[0m eta \u001b[36m0:00:00\u001b[0m\n",
            "\u001b[?25h  Building wheel for htmlmin (setup.py) ... \u001b[?25l\u001b[?25hdone\n"
          ]
        }
      ]
    },
    {
      "cell_type": "code",
      "execution_count": 2,
      "metadata": {
        "id": "E3nOEKy5o7zg",
        "colab": {
          "base_uri": "https://localhost:8080/",
          "height": 145
        },
        "outputId": "0964bf09-2b77-4d12-e585-ccaa88440fea"
      },
      "outputs": [
        {
          "output_type": "display_data",
          "data": {
            "text/plain": [
              "<IPython.core.display.HTML object>"
            ],
            "text/html": [
              "\n",
              "            <div>\n",
              "                <ins><a href=\"https://ydata.ai/register\">Upgrade to ydata-sdk</a></ins>\n",
              "                <p>\n",
              "                    Improve your data and profiling with ydata-sdk, featuring data quality scoring, redundancy detection, outlier identification, text validation, and synthetic data generation.\n",
              "                </p>\n",
              "            </div>\n",
              "            "
            ]
          },
          "metadata": {}
        },
        {
          "output_type": "display_data",
          "data": {
            "text/plain": [
              "<IPython.core.display.HTML object>"
            ],
            "text/html": [
              "\n",
              "            <div>\n",
              "                <ins><a href=\"https://ydata.ai/register\">Upgrade to ydata-sdk</a></ins>\n",
              "                <p>\n",
              "                    Improve your data and profiling with ydata-sdk, featuring data quality scoring, redundancy detection, outlier identification, text validation, and synthetic data generation.\n",
              "                </p>\n",
              "            </div>\n",
              "            "
            ]
          },
          "metadata": {}
        }
      ],
      "source": [
        "# Import Library\n",
        "import os\n",
        "from google.colab import userdata\n",
        "from langchain_community.llms import Replicate\n",
        "from google.colab import files\n",
        "import zipfile\n",
        "import pandas as pd\n",
        "import numpy as np\n",
        "import matplotlib.pyplot as plt\n",
        "import seaborn as sns\n",
        "from ydata_profiling import ProfileReport\n",
        "import re"
      ]
    },
    {
      "cell_type": "code",
      "source": [
        "# Set the API token from Colab Secrets\n",
        "api_token = userdata.get('REPLICATE_API_TOKEN')\n",
        "os.environ[\"REPLICATE_API_TOKEN\"] = api_token"
      ],
      "metadata": {
        "id": "EvBoV501vZlP"
      },
      "execution_count": 3,
      "outputs": []
    },
    {
      "cell_type": "code",
      "source": [
        "# Model setup\n",
        "# Menggunakan model instruksi granite-3.3-8b-instruct\n",
        "model_name = \"ibm-granite/granite-3.3-8b-instruct\"\n",
        "llm = Replicate(\n",
        "    model=model_name,\n",
        "    replicate_api_token=api_token\n",
        ")\n",
        "\n",
        "print(f\"Model {model_name} berhasil diinisialisasi.\")"
      ],
      "metadata": {
        "id": "V-Accfh5s-s-",
        "colab": {
          "base_uri": "https://localhost:8080/"
        },
        "outputId": "037a53a2-19f7-4951-d15b-c212cd65ae2d"
      },
      "execution_count": 4,
      "outputs": [
        {
          "output_type": "stream",
          "name": "stdout",
          "text": [
            "Model ibm-granite/granite-3.3-8b-instruct berhasil diinisialisasi.\n",
            "Model ibm-granite/granite-3.3-8b-instruct berhasil diinisialisasi.\n"
          ]
        }
      ]
    },
    {
      "cell_type": "code",
      "source": [
        "# Upload file\n",
        "print(\"Upload file Json\")\n",
        "files.upload()"
      ],
      "metadata": {
        "colab": {
          "base_uri": "https://localhost:8080/",
          "height": 125
        },
        "id": "dvylthastNS6",
        "outputId": "144802b5-bbf6-4432-f2c3-0fea96d25bd8"
      },
      "execution_count": 5,
      "outputs": [
        {
          "output_type": "stream",
          "name": "stdout",
          "text": [
            "Upload file Json\n"
          ]
        },
        {
          "output_type": "display_data",
          "data": {
            "text/plain": [
              "<IPython.core.display.HTML object>"
            ],
            "text/html": [
              "\n",
              "     <input type=\"file\" id=\"files-135b4aba-9a89-484a-9ce5-f589e218dbaf\" name=\"files[]\" multiple disabled\n",
              "        style=\"border:none\" />\n",
              "     <output id=\"result-135b4aba-9a89-484a-9ce5-f589e218dbaf\">\n",
              "      Upload widget is only available when the cell has been executed in the\n",
              "      current browser session. Please rerun this cell to enable.\n",
              "      </output>\n",
              "      <script>// Copyright 2017 Google LLC\n",
              "//\n",
              "// Licensed under the Apache License, Version 2.0 (the \"License\");\n",
              "// you may not use this file except in compliance with the License.\n",
              "// You may obtain a copy of the License at\n",
              "//\n",
              "//      http://www.apache.org/licenses/LICENSE-2.0\n",
              "//\n",
              "// Unless required by applicable law or agreed to in writing, software\n",
              "// distributed under the License is distributed on an \"AS IS\" BASIS,\n",
              "// WITHOUT WARRANTIES OR CONDITIONS OF ANY KIND, either express or implied.\n",
              "// See the License for the specific language governing permissions and\n",
              "// limitations under the License.\n",
              "\n",
              "/**\n",
              " * @fileoverview Helpers for google.colab Python module.\n",
              " */\n",
              "(function(scope) {\n",
              "function span(text, styleAttributes = {}) {\n",
              "  const element = document.createElement('span');\n",
              "  element.textContent = text;\n",
              "  for (const key of Object.keys(styleAttributes)) {\n",
              "    element.style[key] = styleAttributes[key];\n",
              "  }\n",
              "  return element;\n",
              "}\n",
              "\n",
              "// Max number of bytes which will be uploaded at a time.\n",
              "const MAX_PAYLOAD_SIZE = 100 * 1024;\n",
              "\n",
              "function _uploadFiles(inputId, outputId) {\n",
              "  const steps = uploadFilesStep(inputId, outputId);\n",
              "  const outputElement = document.getElementById(outputId);\n",
              "  // Cache steps on the outputElement to make it available for the next call\n",
              "  // to uploadFilesContinue from Python.\n",
              "  outputElement.steps = steps;\n",
              "\n",
              "  return _uploadFilesContinue(outputId);\n",
              "}\n",
              "\n",
              "// This is roughly an async generator (not supported in the browser yet),\n",
              "// where there are multiple asynchronous steps and the Python side is going\n",
              "// to poll for completion of each step.\n",
              "// This uses a Promise to block the python side on completion of each step,\n",
              "// then passes the result of the previous step as the input to the next step.\n",
              "function _uploadFilesContinue(outputId) {\n",
              "  const outputElement = document.getElementById(outputId);\n",
              "  const steps = outputElement.steps;\n",
              "\n",
              "  const next = steps.next(outputElement.lastPromiseValue);\n",
              "  return Promise.resolve(next.value.promise).then((value) => {\n",
              "    // Cache the last promise value to make it available to the next\n",
              "    // step of the generator.\n",
              "    outputElement.lastPromiseValue = value;\n",
              "    return next.value.response;\n",
              "  });\n",
              "}\n",
              "\n",
              "/**\n",
              " * Generator function which is called between each async step of the upload\n",
              " * process.\n",
              " * @param {string} inputId Element ID of the input file picker element.\n",
              " * @param {string} outputId Element ID of the output display.\n",
              " * @return {!Iterable<!Object>} Iterable of next steps.\n",
              " */\n",
              "function* uploadFilesStep(inputId, outputId) {\n",
              "  const inputElement = document.getElementById(inputId);\n",
              "  inputElement.disabled = false;\n",
              "\n",
              "  const outputElement = document.getElementById(outputId);\n",
              "  outputElement.innerHTML = '';\n",
              "\n",
              "  const pickedPromise = new Promise((resolve) => {\n",
              "    inputElement.addEventListener('change', (e) => {\n",
              "      resolve(e.target.files);\n",
              "    });\n",
              "  });\n",
              "\n",
              "  const cancel = document.createElement('button');\n",
              "  inputElement.parentElement.appendChild(cancel);\n",
              "  cancel.textContent = 'Cancel upload';\n",
              "  const cancelPromise = new Promise((resolve) => {\n",
              "    cancel.onclick = () => {\n",
              "      resolve(null);\n",
              "    };\n",
              "  });\n",
              "\n",
              "  // Wait for the user to pick the files.\n",
              "  const files = yield {\n",
              "    promise: Promise.race([pickedPromise, cancelPromise]),\n",
              "    response: {\n",
              "      action: 'starting',\n",
              "    }\n",
              "  };\n",
              "\n",
              "  cancel.remove();\n",
              "\n",
              "  // Disable the input element since further picks are not allowed.\n",
              "  inputElement.disabled = true;\n",
              "\n",
              "  if (!files) {\n",
              "    return {\n",
              "      response: {\n",
              "        action: 'complete',\n",
              "      }\n",
              "    };\n",
              "  }\n",
              "\n",
              "  for (const file of files) {\n",
              "    const li = document.createElement('li');\n",
              "    li.append(span(file.name, {fontWeight: 'bold'}));\n",
              "    li.append(span(\n",
              "        `(${file.type || 'n/a'}) - ${file.size} bytes, ` +\n",
              "        `last modified: ${\n",
              "            file.lastModifiedDate ? file.lastModifiedDate.toLocaleDateString() :\n",
              "                                    'n/a'} - `));\n",
              "    const percent = span('0% done');\n",
              "    li.appendChild(percent);\n",
              "\n",
              "    outputElement.appendChild(li);\n",
              "\n",
              "    const fileDataPromise = new Promise((resolve) => {\n",
              "      const reader = new FileReader();\n",
              "      reader.onload = (e) => {\n",
              "        resolve(e.target.result);\n",
              "      };\n",
              "      reader.readAsArrayBuffer(file);\n",
              "    });\n",
              "    // Wait for the data to be ready.\n",
              "    let fileData = yield {\n",
              "      promise: fileDataPromise,\n",
              "      response: {\n",
              "        action: 'continue',\n",
              "      }\n",
              "    };\n",
              "\n",
              "    // Use a chunked sending to avoid message size limits. See b/62115660.\n",
              "    let position = 0;\n",
              "    do {\n",
              "      const length = Math.min(fileData.byteLength - position, MAX_PAYLOAD_SIZE);\n",
              "      const chunk = new Uint8Array(fileData, position, length);\n",
              "      position += length;\n",
              "\n",
              "      const base64 = btoa(String.fromCharCode.apply(null, chunk));\n",
              "      yield {\n",
              "        response: {\n",
              "          action: 'append',\n",
              "          file: file.name,\n",
              "          data: base64,\n",
              "        },\n",
              "      };\n",
              "\n",
              "      let percentDone = fileData.byteLength === 0 ?\n",
              "          100 :\n",
              "          Math.round((position / fileData.byteLength) * 100);\n",
              "      percent.textContent = `${percentDone}% done`;\n",
              "\n",
              "    } while (position < fileData.byteLength);\n",
              "  }\n",
              "\n",
              "  // All done.\n",
              "  yield {\n",
              "    response: {\n",
              "      action: 'complete',\n",
              "    }\n",
              "  };\n",
              "}\n",
              "\n",
              "scope.google = scope.google || {};\n",
              "scope.google.colab = scope.google.colab || {};\n",
              "scope.google.colab._files = {\n",
              "  _uploadFiles,\n",
              "  _uploadFilesContinue,\n",
              "};\n",
              "})(self);\n",
              "</script> "
            ]
          },
          "metadata": {}
        },
        {
          "output_type": "stream",
          "name": "stdout",
          "text": [
            "Saving kaggle.json to kaggle.json\n"
          ]
        },
        {
          "output_type": "execute_result",
          "data": {
            "text/plain": [
              "{'kaggle.json': b'{\"username\":\"hildanida\",\"key\":\"f5a9fc13b46d72da0e20f8d56837a544\"}'}"
            ]
          },
          "metadata": {},
          "execution_count": 5
        }
      ]
    },
    {
      "cell_type": "code",
      "source": [
        "# Konfigurasi Kaggle API Key\n",
        "!mkdir -p ~/.kaggle\n",
        "!mv kaggle.json ~/.kaggle/\n",
        "!chmod 600 ~/.kaggle/kaggle.json\n",
        "print(\"Kaggle API key berhasil dikonfigurasi.\")"
      ],
      "metadata": {
        "id": "br3oGzNTvuix",
        "colab": {
          "base_uri": "https://localhost:8080/"
        },
        "outputId": "2a0c8785-e285-49e5-f3bc-1617a9db6b2d"
      },
      "execution_count": 6,
      "outputs": [
        {
          "output_type": "stream",
          "name": "stdout",
          "text": [
            "Kaggle API key berhasil dikonfigurasi.\n",
            "Kaggle API key berhasil dikonfigurasi.\n"
          ]
        }
      ]
    },
    {
      "cell_type": "code",
      "source": [
        "# Unduh Dataset dari Kaggle\n",
        "dataset_slug = 'hildanida/us-consumer-financial-complaints-dataset-raw'\n",
        "!kaggle datasets download -d {dataset_slug}\n"
      ],
      "metadata": {
        "id": "UEgpUY0twIJM",
        "colab": {
          "base_uri": "https://localhost:8080/"
        },
        "outputId": "d8465e76-8037-49dc-a351-63b2d3638ba2"
      },
      "execution_count": 7,
      "outputs": [
        {
          "output_type": "stream",
          "name": "stdout",
          "text": [
            "Dataset URL: https://www.kaggle.com/datasets/hildanida/us-consumer-financial-complaints-dataset-raw\n",
            "License(s): CC0-1.0\n",
            "Downloading us-consumer-financial-complaints-dataset-raw.zip to /content\n",
            " 98% 1.17G/1.19G [00:13<00:00, 196MB/s]\n",
            "100% 1.19G/1.19G [00:13<00:00, 95.1MB/s]\n"
          ]
        }
      ]
    },
    {
      "cell_type": "code",
      "source": [
        "# Ekstraksi Dataset\n",
        "dataset_zip_path = 'us-consumer-financial-complaints-dataset-raw.zip'\n",
        "extract_dir = './consumer_complaints_data'"
      ],
      "metadata": {
        "id": "h9rIzgGIzfmQ"
      },
      "execution_count": 8,
      "outputs": []
    },
    {
      "cell_type": "code",
      "source": [
        "# Membuat direktori tujuan\n",
        "if not os.path.exists(extract_dir):\n",
        "    os.makedirs(extract_dir)\n",
        "\n",
        "# Ekstrak isi file zip\n",
        "with zipfile.ZipFile(dataset_zip_path, 'r') as zip_ref:\n",
        "    zip_ref.extractall(extract_dir)\n",
        "\n",
        "print(f\"Dataset berhasil diunduh dan diekstrak ke: {extract_dir}\")\n",
        "print(\"Isi direktori setelah ekstraksi:\")\n",
        "!ls {extract_dir}"
      ],
      "metadata": {
        "colab": {
          "base_uri": "https://localhost:8080/"
        },
        "id": "wYJxkgGSZzCi",
        "outputId": "3e74b134-8696-4578-cfea-82d303cf88dd"
      },
      "execution_count": 9,
      "outputs": [
        {
          "output_type": "stream",
          "name": "stdout",
          "text": [
            "Dataset berhasil diunduh dan diekstrak ke: ./consumer_complaints_data\n",
            "Isi direktori setelah ekstraksi:\n",
            "complaints.csv\n"
          ]
        }
      ]
    },
    {
      "cell_type": "code",
      "source": [
        "# Muat Dataset ke Pandas DataFrame\n",
        "csv_file_path = os.path.join(extract_dir, 'complaints.csv')\n",
        "df = pd.read_csv(csv_file_path)\n",
        "\n",
        "print(\"\\nDataset berhasil dimuat. Beberapa baris pertama:\")\n",
        "print(df.head())\n",
        "print(\"\\nInformasi Dataset:\")\n",
        "print(df.info())"
      ],
      "metadata": {
        "colab": {
          "base_uri": "https://localhost:8080/"
        },
        "id": "kwPXhCm-Z5dN",
        "outputId": "a62ffde1-749b-43cf-cd42-433a98ea56a9"
      },
      "execution_count": 10,
      "outputs": [
        {
          "output_type": "stream",
          "name": "stderr",
          "text": [
            "/tmp/ipython-input-10-1496317483.py:3: DtypeWarning: Columns (16) have mixed types. Specify dtype option on import or set low_memory=False.\n",
            "  df = pd.read_csv(csv_file_path)\n",
            "/tmp/ipython-input-10-1496317483.py:3: DtypeWarning: Columns (16) have mixed types. Specify dtype option on import or set low_memory=False.\n",
            "  df = pd.read_csv(csv_file_path)\n"
          ]
        },
        {
          "output_type": "stream",
          "name": "stdout",
          "text": [
            "\n",
            "Dataset berhasil dimuat. Beberapa baris pertama:\n",
            "  Date received                                            Product  \\\n",
            "0    2025-05-17                                    Debt collection   \n",
            "1    2025-05-17                                           Mortgage   \n",
            "2    2025-05-17                                    Debt collection   \n",
            "3    2025-05-17                                        Credit card   \n",
            "4    2025-05-17  Credit reporting or other personal consumer re...   \n",
            "\n",
            "                                  Sub-product  \\\n",
            "0                                  Other debt   \n",
            "1                                FHA mortgage   \n",
            "2                            Credit card debt   \n",
            "3  General-purpose credit card or charge card   \n",
            "4                            Credit reporting   \n",
            "\n",
            "                                               Issue  \\\n",
            "0  Took or threatened to take negative or legal a...   \n",
            "1                     Trouble during payment process   \n",
            "2                    Written notification about debt   \n",
            "3                 Other features, terms, or problems   \n",
            "4               Incorrect information on your report   \n",
            "\n",
            "                                          Sub-issue  \\\n",
            "0        Seized or attempted to seize your property   \n",
            "1                                      Fees charged   \n",
            "2  Didn't receive enough information to verify debt   \n",
            "3                        Problem with cash advances   \n",
            "4      Old information reappears or never goes away   \n",
            "\n",
            "                        Consumer complaint narrative  \\\n",
            "0  United First are a predatory lender. They reac...   \n",
            "1                                                NaN   \n",
            "2                                                NaN   \n",
            "3                                                NaN   \n",
            "4                                                NaN   \n",
            "\n",
            "                             Company public response  \\\n",
            "0  Company disputes the facts presented in the co...   \n",
            "1                                                NaN   \n",
            "2                                                NaN   \n",
            "3                                                NaN   \n",
            "4                                                NaN   \n",
            "\n",
            "                             Company State ZIP code            Tags  \\\n",
            "0                  United First, LLC    IN    466XX  Older American   \n",
            "1          CrossCountry Mortgage LLC    TX    77072             NaN   \n",
            "2               ZWICKER & ASSOCIATES    NY    11754             NaN   \n",
            "3  CAPITAL ONE FINANCIAL CORPORATION    NY    11373             NaN   \n",
            "4     Maximus Federal Services, Inc.    TX    75115             NaN   \n",
            "\n",
            "  Consumer consent provided? Submitted via Date sent to company  \\\n",
            "0           Consent provided           Web           2025-06-12   \n",
            "1                        NaN           Web           2025-05-30   \n",
            "2                        NaN           Web           2025-05-30   \n",
            "3                        NaN           Web           2025-05-30   \n",
            "4                      Other           Web           2025-05-29   \n",
            "\n",
            "  Company response to consumer Timely response? Consumer disputed?  \\\n",
            "0      Closed with explanation              Yes                NaN   \n",
            "1      Closed with explanation              Yes                NaN   \n",
            "2      Closed with explanation              Yes                NaN   \n",
            "3                  In progress              Yes                NaN   \n",
            "4      Closed with explanation              Yes                NaN   \n",
            "\n",
            "   Complaint ID  \n",
            "0      13568436  \n",
            "1      13566137  \n",
            "2      13557817  \n",
            "3      13566816  \n",
            "4      13549154  \n",
            "\n",
            "Informasi Dataset:\n",
            "<class 'pandas.core.frame.DataFrame'>\n",
            "RangeIndex: 9492544 entries, 0 to 9492543\n",
            "Data columns (total 18 columns):\n",
            " #   Column                        Dtype \n",
            "---  ------                        ----- \n",
            " 0   Date received                 object\n",
            " 1   Product                       object\n",
            " 2   Sub-product                   object\n",
            " 3   Issue                         object\n",
            " 4   Sub-issue                     object\n",
            " 5   Consumer complaint narrative  object\n",
            " 6   Company public response       object\n",
            " 7   Company                       object\n",
            " 8   State                         object\n",
            " 9   ZIP code                      object\n",
            " 10  Tags                          object\n",
            " 11  Consumer consent provided?    object\n",
            " 12  Submitted via                 object\n",
            " 13  Date sent to company          object\n",
            " 14  Company response to consumer  object\n",
            " 15  Timely response?              object\n",
            " 16  Consumer disputed?            object\n",
            " 17  Complaint ID                  int64 \n",
            "dtypes: int64(1), object(17)\n",
            "memory usage: 1.3+ GB\n",
            "None\n",
            "\n",
            "Dataset berhasil dimuat. Beberapa baris pertama:\n",
            "  Date received                                            Product  \\\n",
            "0    2025-05-17                                    Debt collection   \n",
            "1    2025-05-17                                           Mortgage   \n",
            "2    2025-05-17                                    Debt collection   \n",
            "3    2025-05-17                                        Credit card   \n",
            "4    2025-05-17  Credit reporting or other personal consumer re...   \n",
            "\n",
            "                                  Sub-product  \\\n",
            "0                                  Other debt   \n",
            "1                                FHA mortgage   \n",
            "2                            Credit card debt   \n",
            "3  General-purpose credit card or charge card   \n",
            "4                            Credit reporting   \n",
            "\n",
            "                                               Issue  \\\n",
            "0  Took or threatened to take negative or legal a...   \n",
            "1                     Trouble during payment process   \n",
            "2                    Written notification about debt   \n",
            "3                 Other features, terms, or problems   \n",
            "4               Incorrect information on your report   \n",
            "\n",
            "                                          Sub-issue  \\\n",
            "0        Seized or attempted to seize your property   \n",
            "1                                      Fees charged   \n",
            "2  Didn't receive enough information to verify debt   \n",
            "3                        Problem with cash advances   \n",
            "4      Old information reappears or never goes away   \n",
            "\n",
            "                        Consumer complaint narrative  \\\n",
            "0  United First are a predatory lender. They reac...   \n",
            "1                                                NaN   \n",
            "2                                                NaN   \n",
            "3                                                NaN   \n",
            "4                                                NaN   \n",
            "\n",
            "                             Company public response  \\\n",
            "0  Company disputes the facts presented in the co...   \n",
            "1                                                NaN   \n",
            "2                                                NaN   \n",
            "3                                                NaN   \n",
            "4                                                NaN   \n",
            "\n",
            "                             Company State ZIP code            Tags  \\\n",
            "0                  United First, LLC    IN    466XX  Older American   \n",
            "1          CrossCountry Mortgage LLC    TX    77072             NaN   \n",
            "2               ZWICKER & ASSOCIATES    NY    11754             NaN   \n",
            "3  CAPITAL ONE FINANCIAL CORPORATION    NY    11373             NaN   \n",
            "4     Maximus Federal Services, Inc.    TX    75115             NaN   \n",
            "\n",
            "  Consumer consent provided? Submitted via Date sent to company  \\\n",
            "0           Consent provided           Web           2025-06-12   \n",
            "1                        NaN           Web           2025-05-30   \n",
            "2                        NaN           Web           2025-05-30   \n",
            "3                        NaN           Web           2025-05-30   \n",
            "4                      Other           Web           2025-05-29   \n",
            "\n",
            "  Company response to consumer Timely response? Consumer disputed?  \\\n",
            "0      Closed with explanation              Yes                NaN   \n",
            "1      Closed with explanation              Yes                NaN   \n",
            "2      Closed with explanation              Yes                NaN   \n",
            "3                  In progress              Yes                NaN   \n",
            "4      Closed with explanation              Yes                NaN   \n",
            "\n",
            "   Complaint ID  \n",
            "0      13568436  \n",
            "1      13566137  \n",
            "2      13557817  \n",
            "3      13566816  \n",
            "4      13549154  \n",
            "\n",
            "Informasi Dataset:\n",
            "<class 'pandas.core.frame.DataFrame'>\n",
            "RangeIndex: 9492544 entries, 0 to 9492543\n",
            "Data columns (total 18 columns):\n",
            " #   Column                        Dtype \n",
            "---  ------                        ----- \n",
            " 0   Date received                 object\n",
            " 1   Product                       object\n",
            " 2   Sub-product                   object\n",
            " 3   Issue                         object\n",
            " 4   Sub-issue                     object\n",
            " 5   Consumer complaint narrative  object\n",
            " 6   Company public response       object\n",
            " 7   Company                       object\n",
            " 8   State                         object\n",
            " 9   ZIP code                      object\n",
            " 10  Tags                          object\n",
            " 11  Consumer consent provided?    object\n",
            " 12  Submitted via                 object\n",
            " 13  Date sent to company          object\n",
            " 14  Company response to consumer  object\n",
            " 15  Timely response?              object\n",
            " 16  Consumer disputed?            object\n",
            " 17  Complaint ID                  int64 \n",
            "dtypes: int64(1), object(17)\n",
            "memory usage: 1.3+ GB\n",
            "None\n"
          ]
        }
      ]
    },
    {
      "cell_type": "code",
      "source": [
        "# Menangani Missing Values\n",
        "df_filtered = df[['Product', 'Issue', 'Consumer complaint narrative']].copy()\n",
        "\n",
        "# Hapus baris di mana 'Consumer complaint narrative' kosong\n",
        "df_filtered.dropna(subset=['Consumer complaint narrative'], inplace=True)\n",
        "\n",
        "# Isi nilai NaN di 'Product' atau 'Issue' dengan 'Unknown'\n",
        "df_filtered['Product'].fillna('Unknown', inplace=True)\n",
        "df_filtered['Issue'].fillna('Unknown', inplace=True)\n",
        "\n",
        "print(\"Dataset setelah filtering dan penanganan missing values:\")\n",
        "print(df_filtered.info())\n",
        "print(df_filtered.head())\n"
      ],
      "metadata": {
        "id": "ufvwv9r_ac4b",
        "colab": {
          "base_uri": "https://localhost:8080/"
        },
        "outputId": "e0a187fc-ac6b-4e59-ef5c-bfe8f9bb652c"
      },
      "execution_count": 11,
      "outputs": [
        {
          "output_type": "stream",
          "name": "stderr",
          "text": [
            "/tmp/ipython-input-11-1637329771.py:8: FutureWarning: A value is trying to be set on a copy of a DataFrame or Series through chained assignment using an inplace method.\n",
            "The behavior will change in pandas 3.0. This inplace method will never work because the intermediate object on which we are setting values always behaves as a copy.\n",
            "\n",
            "For example, when doing 'df[col].method(value, inplace=True)', try using 'df.method({col: value}, inplace=True)' or df[col] = df[col].method(value) instead, to perform the operation inplace on the original object.\n",
            "\n",
            "\n",
            "  df_filtered['Product'].fillna('Unknown', inplace=True)\n",
            "/tmp/ipython-input-11-1637329771.py:9: FutureWarning: A value is trying to be set on a copy of a DataFrame or Series through chained assignment using an inplace method.\n",
            "The behavior will change in pandas 3.0. This inplace method will never work because the intermediate object on which we are setting values always behaves as a copy.\n",
            "\n",
            "For example, when doing 'df[col].method(value, inplace=True)', try using 'df.method({col: value}, inplace=True)' or df[col] = df[col].method(value) instead, to perform the operation inplace on the original object.\n",
            "\n",
            "\n",
            "  df_filtered['Issue'].fillna('Unknown', inplace=True)\n"
          ]
        },
        {
          "output_type": "stream",
          "name": "stdout",
          "text": [
            "Dataset setelah filtering dan penanganan missing values:\n",
            "<class 'pandas.core.frame.DataFrame'>\n",
            "Index: 2950442 entries, 0 to 9492537\n",
            "Data columns (total 3 columns):\n",
            " #   Column                        Dtype \n",
            "---  ------                        ----- \n",
            " 0   Product                       object\n",
            " 1   Issue                         object\n",
            " 2   Consumer complaint narrative  object\n",
            "dtypes: object(3)\n",
            "memory usage: 90.0+ MB\n",
            "None\n",
            "                                               Product  \\\n",
            "0                                      Debt collection   \n",
            "36   Credit reporting or other personal consumer re...   \n",
            "43   Credit reporting or other personal consumer re...   \n",
            "196  Credit reporting or other personal consumer re...   \n",
            "215                                       Student loan   \n",
            "\n",
            "                                                 Issue  \\\n",
            "0    Took or threatened to take negative or legal a...   \n",
            "36                Incorrect information on your report   \n",
            "43                Incorrect information on your report   \n",
            "196  Problem with a company's investigation into an...   \n",
            "215                      Struggling to repay your loan   \n",
            "\n",
            "                          Consumer complaint narrative  \n",
            "0    United First are a predatory lender. They reac...  \n",
            "36   My credit reports are inaccurate. These inaccu...  \n",
            "43   The first reported late payment was XXXX of 20...  \n",
            "196  I have tried to resolve this matter with Exper...  \n",
            "215  I am 92 days past due on my private student lo...  \n"
          ]
        }
      ]
    },
    {
      "cell_type": "code",
      "source": [
        "# Pembersihan Teks\n",
        "def clean_text(text):\n",
        "    if not isinstance(text, str):\n",
        "        return \"\"\n",
        "    text = text.lower()\n",
        "    text = re.sub(r'[^a-z\\s]', '', text)\n",
        "    text = re.sub(r'\\s+', ' ', text).strip()\n",
        "    return text\n",
        "\n",
        "# Menerapkan pembersihan pada kolom narasi keluhan\n",
        "df_filtered['cleaned_complaint'] = df_filtered['Consumer complaint narrative'].apply(clean_text)\n",
        "\n",
        "print(\"\\nNarasi keluhan setelah pembersihan:\")\n",
        "print(df_filtered[['Consumer complaint narrative', 'cleaned_complaint']].head())\n",
        "\n",
        "# Filter keluar keluhan yang menjadi kosong setelah dibersihkan\n",
        "df_cleaned = df_filtered[df_filtered['cleaned_complaint'].str.len() > 0].copy()\n",
        "print(f\"\\nJumlah keluhan setelah pembersihan dan penghapusan kosong: {len(df_cleaned)}\")\n"
      ],
      "metadata": {
        "id": "lAm-JB-IbEDX",
        "colab": {
          "base_uri": "https://localhost:8080/"
        },
        "outputId": "3fbe751f-fdc5-43fa-de90-4eccf279f2c9"
      },
      "execution_count": 12,
      "outputs": [
        {
          "output_type": "stream",
          "name": "stdout",
          "text": [
            "\n",
            "Narasi keluhan setelah pembersihan:\n",
            "                          Consumer complaint narrative  \\\n",
            "0    United First are a predatory lender. They reac...   \n",
            "36   My credit reports are inaccurate. These inaccu...   \n",
            "43   The first reported late payment was XXXX of 20...   \n",
            "196  I have tried to resolve this matter with Exper...   \n",
            "215  I am 92 days past due on my private student lo...   \n",
            "\n",
            "                                     cleaned_complaint  \n",
            "0    united first are a predatory lender they reach...  \n",
            "36   my credit reports are inaccurate these inaccur...  \n",
            "43   the first reported late payment was xxxx of th...  \n",
            "196  i have tried to resolve this matter with exper...  \n",
            "215  i am days past due on my private student loan ...  \n",
            "\n",
            "Jumlah keluhan setelah pembersihan dan penghapusan kosong: 2950442\n"
          ]
        }
      ]
    },
    {
      "cell_type": "markdown",
      "source": [
        "## Implementasi Klasifikasi Menggunakan IBM Granite"
      ],
      "metadata": {
        "id": "0kvy4lvCj2Jo"
      }
    },
    {
      "cell_type": "markdown",
      "source": [
        "Bagian ini akan mendemonstrasikan bagaimana model IBM Granite yang digunakan untuk mengklasifikasikan keluhan konsumen. Saya akan menguji dengan parameter default, kemudian menyesuaikan parameter `(top_k)` dan parameter berganda (`top_k`, `top_p`, `max_tokens`, `repetition_penalty`) untuk melihat dampaknya pada output."
      ],
      "metadata": {
        "id": "Zgsv6Wszj4ls"
      }
    },
    {
      "cell_type": "code",
      "source": [
        "# Mendefinisikan Fungsi Klasifikasi dengan Parameter Default\n",
        "# Set default model parameters for prompting\n",
        "default_parameters = {\n",
        "    \"top_k\": 0,\n",
        "    \"top_p\": 1.0,\n",
        "    \"max_tokens\": 256,\n",
        "    \"min_tokens\": 0,\n",
        "    \"random_seed\": None,\n",
        "    \"repetition_penalty\": 1.0,\n",
        "    \"stopping_criteria\": \"length (256 tokens)\",\n",
        "    \"stopping_sequence\": None\n",
        "}\n",
        "\n",
        "def classify_complaint_with_granite(complaint_text, category_options, parameters=default_parameters):\n",
        "    options_str = \", \".join(category_options)\n",
        "    prompt = f\"\"\"\n",
        "    Classify the following consumer complaint into one of these categories: {options_str}.\n",
        "    Complaint: {complaint_text}\n",
        "    Category:\n",
        "    \"\"\"\n",
        "    try:\n",
        "        response = llm.invoke(prompt, parameters=parameters)\n",
        "        return response.strip()\n",
        "    except Exception as e:\n",
        "        return f\"Error: {e}\"\n",
        "\n",
        "# Mengambil daftar unik produk dari dataset untuk digunakan sebagai kategori klasifikasi\n",
        "# Pilih 10 produk teratas untuk contoh agar prompt tidak terlalu panjang dan efisien\n",
        "top_products_for_classification = df_cleaned['Product'].value_counts().nlargest(10).index.tolist()\n",
        "print(f\"\\nMenggunakan {len(top_products_for_classification)} produk teratas untuk klasifikasi:\\n{top_products_for_classification}\")\n",
        "\n",
        "# Uji dengan beberapa keluhan pertama dari dataset yang sudah dibersihkan\n",
        "sample_complaints_classification = df_cleaned['cleaned_complaint'].head(3).tolist()\n"
      ],
      "metadata": {
        "id": "_usTO0CObPn1",
        "colab": {
          "base_uri": "https://localhost:8080/"
        },
        "outputId": "5fc2a8b4-5278-4c70-c5d6-29680d19ea3d"
      },
      "execution_count": 13,
      "outputs": [
        {
          "output_type": "stream",
          "name": "stdout",
          "text": [
            "\n",
            "Menggunakan 10 produk teratas untuk klasifikasi:\n",
            "['Credit reporting or other personal consumer reports', 'Credit reporting, credit repair services, or other personal consumer reports', 'Debt collection', 'Checking or savings account', 'Mortgage', 'Credit card or prepaid card', 'Money transfer, virtual currency, or money service', 'Credit card', 'Student loan', 'Vehicle loan or lease']\n"
          ]
        }
      ]
    },
    {
      "cell_type": "code",
      "source": [
        "print(\"\\n--- Uji Klasifikasi dengan Parameter Default ---\")\n",
        "# Ini adalah pengujian awal untuk mengidentifikasi area perbaikan\n",
        "for i, complaint in enumerate(sample_complaints_classification):\n",
        "    predicted_category = classify_complaint_with_granite(complaint, top_products_for_classification, parameters=default_parameters)\n",
        "    print(f\"Complaint {i+1} (Original Product: {df_cleaned.iloc[i]['Product']}): {complaint[:150]}...\") # Menampilkan 150 karakter pertama\n",
        "    print(f\"Predicted Product (Default Params): {predicted_category}\\n\")\n",
        "\n",
        "print(\"Output awal mungkin tidak ringkas dan kurang spesifik, memerlukan penyesuaian parameter.\")"
      ],
      "metadata": {
        "colab": {
          "base_uri": "https://localhost:8080/"
        },
        "id": "yHOr-bWikPzK",
        "outputId": "07bd2248-396d-41d0-add6-837f224869b5"
      },
      "execution_count": 14,
      "outputs": [
        {
          "output_type": "stream",
          "name": "stdout",
          "text": [
            "\n",
            "--- Uji Klasifikasi dengan Parameter Default ---\n",
            "Complaint 1 (Original Product: Debt collection): united first are a predatory lender they reached out to me offering their predatory loans but when they discovered that i already had gotten involved ...\n",
            "Predicted Product (Default Params): The complaint falls under the category of \"Credit card or prepaid card\" and \"Debt collection\". The user is expressing dissatisfaction with a lending service (United First) that they believe engaged in predatory lending practices, stopped providing agreed-upon services, and are now attempting to collect on an unsustainable debt. The user also mentions the impact on their small business, which ties into the broader category of debt collection affecting their financial stability.\n",
            "\n",
            "Complaint 2 (Original Product: Credit reporting or other personal consumer reports): my credit reports are inaccurate these inaccuracies are causing creditors to deny me credit you have the duty to report accurate information about con...\n",
            "Predicted Product (Default Params): Error: Director: unexpected error handling prediction (E8765)\n",
            "\n",
            "Complaint 3 (Original Product: Credit reporting or other personal consumer reports): the first reported late payment was xxxx of that is more than years ago and according to the fcra should be removed from my credit report they keep ch...\n",
            "Predicted Product (Default Params): The complaint falls under the category: Credit reporting or other personal consumer reports, specifically Credit reporting. The consumer is expressing an issue with a late payment on their credit report that, according to the Fair Credit Reporting Act (FCRA), should have been removed. The lender or debt collector, in this case, appears to be associated with Shellpoint and is allegedly changing the dates to keep the negative information on the report.\n",
            "\n",
            "Output awal mungkin tidak ringkas dan kurang spesifik, memerlukan penyesuaian parameter.\n"
          ]
        }
      ]
    },
    {
      "cell_type": "code",
      "source": [
        "# Menganalisis Output Default & Penyesuaian Parameter (`top_k`)\n",
        "# Menyesuaikan top_k untuk menambahkan granularitas dan fokus pada opsi yang paling mungkin\n",
        "# Mengurangi nilai top_k membantu model fokus pada opsi yang paling mungkin, meningkatkan presisi.\n",
        "refined_parameters_topk = {\n",
        "    \"top_k\": 5, # Membatasi pilihan token ke 5 yang paling mungkin\n",
        "    \"top_p\": 1.0,\n",
        "    \"max_tokens\": 256,\n",
        "    \"min_tokens\": 0,\n",
        "    \"random_seed\": None,\n",
        "    \"repetition_penalty\": 1.0,\n",
        "    \"stopping_criteria\": \"length (256 tokens)\",\n",
        "    \"stopping_sequence\": None\n",
        "}\n"
      ],
      "metadata": {
        "id": "-4Tb8486kXQ0"
      },
      "execution_count": 15,
      "outputs": []
    },
    {
      "cell_type": "code",
      "source": [
        "print(\"\\n--- Uji Klasifikasi dengan top_k=5 ---\")\n",
        "for i, complaint in enumerate(sample_complaints_classification):\n",
        "    predicted_category = classify_complaint_with_granite(complaint, top_products_for_classification, parameters=refined_parameters_topk)\n",
        "    print(f\"Complaint {i+1} (Original Product: {df_cleaned.iloc[i]['Product']}): {complaint[:150]}...\")\n",
        "    print(f\"Predicted Product (top_k=5): {predicted_category}\\n\")\n",
        "\n",
        "print(\"Penyesuaian top_k=5 membantu model lebih fokus, namun output mungkin masih bisa lebih ringkas.\")\n"
      ],
      "metadata": {
        "colab": {
          "base_uri": "https://localhost:8080/"
        },
        "id": "PTqVo-04kgOt",
        "outputId": "00221a0d-f3e2-4104-c08c-705a1b90592f"
      },
      "execution_count": 16,
      "outputs": [
        {
          "output_type": "stream",
          "name": "stdout",
          "text": [
            "\n",
            "--- Uji Klasifikasi dengan top_k=5 ---\n",
            "Complaint 1 (Original Product: Debt collection): united first are a predatory lender they reached out to me offering their predatory loans but when they discovered that i already had gotten involved ...\n",
            "Predicted Product (top_k=5): The complaint falls under the category of \"Credit card or prepaid card, Debt collection\". The user is describing an experience with a lender (United First) that offered predatory loans and subsequently engaged in practices that the complainant perceives as unfair and destructive to their small business. The issue revolves around debt collection and the handling of credit or loan agreements, specifically when the lender allegedly ceased their obligations while still attempting to draw payments. Additionally, there's a mention of debt settlement companies, which also ties into debt collection practices.\n",
            "\n",
            "Complaint 2 (Original Product: Credit reporting or other personal consumer reports): my credit reports are inaccurate these inaccuracies are causing creditors to deny me credit you have the duty to report accurate information about con...\n",
            "Predicted Product (top_k=5): The complaint falls under the category: Credit reporting, credit repair services, or other personal consumer reports. The consumer is expressing dissatisfaction with inaccuracies in their credit reports, which are affecting their ability to secure credit. They are requesting an investigation and correction of these errors to prevent future legal issues.\n",
            "\n",
            "Complaint 3 (Original Product: Credit reporting or other personal consumer reports): the first reported late payment was xxxx of that is more than years ago and according to the fcra should be removed from my credit report they keep ch...\n",
            "Predicted Product (top_k=5): The complaint falls under the category of Credit reporting or other personal consumer reports, specifically focusing on credit repair services or other personal consumer reports. The user is expressing an issue with a late payment reported on their credit report that, according to the Fair Credit Reporting Act (FCRA), should have been removed. The company involved, xxxx, has been acquired by Shellpoint, and the user alleges that the dates are being altered to keep the negative information on their report. This directly pertains to credit reporting practices and the user's attempt to have inaccurate information corrected or removed.\n",
            "\n",
            "Penyesuaian top_k=5 membantu model lebih fokus, namun output mungkin masih bisa lebih ringkas.\n"
          ]
        }
      ]
    },
    {
      "cell_type": "code",
      "source": [
        "# Menganalisis Output & Penyesuaian Parameter Berganda untuk Klasifikasi\n",
        "# Tujuannya adalah membuat output lebih pendek, ringkas, dan menghindari pengulangan\n",
        "refined_parameters_multiple_classification = {\n",
        "    \"top_k\": 1, # Membatasi respons pada token yang paling mungkin untuk output deterministik\n",
        "    \"top_p\": 0.5, # Menyaring respons untuk koherensi dan relevansi\n",
        "    \"max_tokens\": 10, # Memastikan output ringkas\n",
        "    \"min_tokens\": 3,\n",
        "    \"random_seed\": None, # Untuk output yang bervariasi, atau nilai tetap untuk reproduktibilitas\n",
        "    \"repetition_penalty\": 1.5, # Meningkatkan penalti pengulangan untuk menghindari frasa berlebihan\n",
        "    \"stopping_criteria\": \"length\", # Menghentikan model setelah jumlah token tertentu tercapai\n",
        "    \"stopping_sequence\": \" \" # Memaksa penghentian pada jeda alami seperti batas kata\n",
        "}"
      ],
      "metadata": {
        "id": "IdO_0v3CknCQ"
      },
      "execution_count": 17,
      "outputs": []
    },
    {
      "cell_type": "code",
      "source": [
        "print(\"\\n--- Uji Klasifikasi dengan Parameter Berganda (Max 10 Tokens) ---\")\n",
        "for i, complaint in enumerate(sample_complaints_classification):\n",
        "    predicted_category = classify_complaint_with_granite(complaint, top_products_for_classification, parameters=refined_parameters_multiple_classification)\n",
        "    print(f\"Complaint {i+1} (Original Product: {df_cleaned.iloc[i]['Product']}): {complaint[:150]}...\")\n",
        "    print(f\"Predicted Product (Multiple Params): {predicted_category}\\n\")\n",
        "\n",
        "print(\"Output yang lebih ringkas dan terfokus dihasilkan. Terkadang, model mungkin tidak menunjukkan perubahan signifikan jika batas ambang parameter sudah tercapai, karena model dilatih untuk struktur respons tertentu.\")"
      ],
      "metadata": {
        "colab": {
          "base_uri": "https://localhost:8080/"
        },
        "id": "fJY9Zv6lktIo",
        "outputId": "cbe4ebff-e19a-4865-b1a0-842dda2bab0b"
      },
      "execution_count": 18,
      "outputs": [
        {
          "output_type": "stream",
          "name": "stdout",
          "text": [
            "\n",
            "--- Uji Klasifikasi dengan Parameter Berganda (Max 10 Tokens) ---\n",
            "Complaint 1 (Original Product: Debt collection): united first are a predatory lender they reached out to me offering their predatory loans but when they discovered that i already had gotten involved ...\n",
            "Predicted Product (Multiple Params): The complaint falls under the category of \"Debt collection.\" The user alleges that United First, a lending company, engaged in predatory lending practices, failed to fulfill their end of a debt settlement agreement, and are now attempting to collect from the user's receivables despite their own breach of contract. This involves debt collection tactics that the user perceives as predatory and harmful to small businesses.\n",
            "\n",
            "Complaint 2 (Original Product: Credit reporting or other personal consumer reports): my credit reports are inaccurate these inaccuracies are causing creditors to deny me credit you have the duty to report accurate information about con...\n",
            "Predicted Product (Multiple Params): The complaint falls under the category: Credit reporting, credit repair services, or other personal consumer reports. The consumer is expressing dissatisfaction with inaccuracies in their credit reports, which are affecting their ability to secure credit. They are requesting an investigation and correction of these errors to prevent future issues, including potential litigation.\n",
            "\n",
            "Complaint 3 (Original Product: Credit reporting or other personal consumer reports): the first reported late payment was xxxx of that is more than years ago and according to the fcra should be removed from my credit report they keep ch...\n",
            "Predicted Product (Multiple Params): The complaint falls under the category of Credit reporting or other personal consumer reports, specifically Credit reporting. The consumer is expressing dissatisfaction with a late payment that, according to the Fair Credit Reporting Act (FCRA), should be removed from their credit report. They mention that the servicer, now acquired by Shellpoint, is continually altering the dates to keep the late payment on the report.\n",
            "\n",
            "Output yang lebih ringkas dan terfokus dihasilkan. Terkadang, model mungkin tidak menunjukkan perubahan signifikan jika batas ambang parameter sudah tercapai, karena model dilatih untuk struktur respons tertentu.\n"
          ]
        }
      ]
    },
    {
      "cell_type": "markdown",
      "source": [
        "## Implementasi Ringkasan Menggunakan IBM Granite"
      ],
      "metadata": {
        "id": "Vkf4UPNVk1kV"
      }
    },
    {
      "cell_type": "markdown",
      "source": [
        "Pada bagian ini akan didemonstrasikan bagaimana model IBM Granite digunakan untuk meringkas narasi keluhan konsumen. Saya akan menguji dengan parameter default, kemudian menyesuaikan parameter `(max_tokens)` dan parameter berganda (`top_p`, `top_k`, `repetition_penalty`, `stopping_sequence`) untuk melihat dampaknya pada output ringkasan."
      ],
      "metadata": {
        "id": "kUjX6uE8k37L"
      }
    },
    {
      "cell_type": "code",
      "source": [
        "# Mendefinisikan Fungsi Ringkasan dengan Parameter Default\n",
        "# Menggunakan `default_parameters` yang sudah didefinisikan sebelumnya\n",
        "\n",
        "def summarize_complaint_with_granite(complaint_text, parameters=default_parameters):\n",
        "    prompt = f\"\"\"\n",
        "    Summarize the following consumer complaint, focusing on key points, issues, and any mentioned resolutions.\n",
        "    Complaint: {complaint_text}\n",
        "    Summary:\n",
        "    \"\"\"\n",
        "    try:\n",
        "        response = llm.invoke(prompt, parameters=parameters)\n",
        "        return response.strip()\n",
        "    except Exception as e:\n",
        "        return f\"Error: {e}\""
      ],
      "metadata": {
        "id": "5dbX8_7JkyET"
      },
      "execution_count": 19,
      "outputs": []
    },
    {
      "cell_type": "code",
      "source": [
        "# Uji dengan beberapa keluhan pertama dari dataset yang sudah dibersihkan (maksimal 3 contoh)\n",
        "sample_complaint_texts_summarization = df_cleaned['cleaned_complaint'].head(min(3, len(df_cleaned))).tolist()\n",
        "for i, complaint_text in enumerate(sample_complaint_texts_summarization):\n",
        "    summary = summarize_complaint_with_granite(complaint_text, parameters=default_parameters)\n",
        "    print(f\"Complaint {i+1}: {complaint_text[:250]}...\") # Tampilkan 250 karakter pertama\n",
        "    print(f\"Summary (Default): {summary}\\n\")\n",
        "\n",
        "print(\"Output ringkasan default mungkin terlalu detail dan kurang ringkas. \")"
      ],
      "metadata": {
        "colab": {
          "base_uri": "https://localhost:8080/"
        },
        "id": "6rOEsZ7ZvrNe",
        "outputId": "e200e114-65c5-4b70-f168-75c3252d92be"
      },
      "execution_count": 22,
      "outputs": [
        {
          "output_type": "stream",
          "name": "stdout",
          "text": [
            "Complaint 1: united first are a predatory lender they reached out to me offering their predatory loans but when they discovered that i already had gotten involved in predatory lending they said they could do a reverse they would send me and then they would pull e...\n",
            "Summary (Default): The consumer accuses United First of predatory lending practices, claiming they offered loans despite knowing the consumer's prior involvement with predatory lending. United First allegedly proposed a reverse strategy to manage existing predatory loans but ceased their obligations, leaving the consumer unable to sustain payments. The consumer stopped payment as United First stopped fulfilling their end of the agreement. United First now demands payment from the consumer's receivables, despite initially halting their own contributions. The consumer believes this behavior is exploitative and potentially illegal, arguing that such practices, common among debt settlement companies, should be regulated to prevent the destruction of small businesses.\n",
            "\n",
            "Complaint 2: my credit reports are inaccurate these inaccuracies are causing creditors to deny me credit you have the duty to report accurate information about consumers please investigate these accounts and inquires and update these accounts accordingly to avoid...\n",
            "Summary (Default): Error: Director: unexpected error handling prediction (E9243)\n",
            "\n",
            "Complaint 3: the first reported late payment was xxxx of that is more than years ago and according to the fcra should be removed from my credit report they keep changing the dates to keep it on my report xxxx xxxx has also been acquired by shellpoint and they ref...\n",
            "Summary (Default): Error: Director: unexpected error handling prediction (E8765)\n",
            "\n",
            "Output ringkasan default mungkin terlalu detail dan kurang ringkas. \n"
          ]
        }
      ]
    },
    {
      "cell_type": "code",
      "source": [
        "# Visualisasi distribusi 'Product'\n",
        "plt.figure(figsize=(12, 8))\n",
        "sns.countplot(y='Product', data=df_cleaned, order=df_cleaned['Product'].value_counts().index, palette='viridis')\n",
        "plt.title('Distribusi Keluhan Berdasarkan Kategori Produk')\n",
        "plt.xlabel('Jumlah Keluhan')\n",
        "plt.ylabel('Produk')\n",
        "plt.tight_layout()\n",
        "plt.show()\n",
        "\n",
        "# Visualisasi distribusi 'Issue' (ambil 15 teratas untuk keterbacaan)\n",
        "plt.figure(figsize=(12, 10))\n",
        "sns.countplot(y='Issue', data=df_cleaned, order=df_cleaned['Issue'].value_counts().nlargest(15).index, palette='magma')\n",
        "plt.title('Distribusi Keluhan Berdasarkan Isu (Top 15)')\n",
        "plt.xlabel('Jumlah Keluhan')\n",
        "plt.ylabel('Isu')\n",
        "plt.tight_layout()\n",
        "plt.show()"
      ],
      "metadata": {
        "colab": {
          "base_uri": "https://localhost:8080/",
          "height": 1000
        },
        "id": "_3O6x2HtwPir",
        "outputId": "b50b1966-b863-41b1-9a08-a39e474807b1"
      },
      "execution_count": 25,
      "outputs": [
        {
          "output_type": "stream",
          "name": "stderr",
          "text": [
            "/tmp/ipython-input-25-1452971748.py:3: FutureWarning: \n",
            "\n",
            "Passing `palette` without assigning `hue` is deprecated and will be removed in v0.14.0. Assign the `y` variable to `hue` and set `legend=False` for the same effect.\n",
            "\n",
            "  sns.countplot(y='Product', data=df_cleaned, order=df_cleaned['Product'].value_counts().index, palette='viridis')\n"
          ]
        },
        {
          "output_type": "display_data",
          "data": {
            "text/plain": [
              "<Figure size 1200x800 with 1 Axes>"
            ],
            "image/png": "[encoded data removed]"
          },
          "metadata": {}
        },
        {
          "output_type": "stream",
          "name": "stderr",
          "text": [
            "/tmp/ipython-input-25-1452971748.py:12: FutureWarning: \n",
            "\n",
            "Passing `palette` without assigning `hue` is deprecated and will be removed in v0.14.0. Assign the `y` variable to `hue` and set `legend=False` for the same effect.\n",
            "\n",
            "  sns.countplot(y='Issue', data=df_cleaned, order=df_cleaned['Issue'].value_counts().nlargest(15).index, palette='magma')\n"
          ]
        },
        {
          "output_type": "display_data",
          "data": {
            "text/plain": [
              "<Figure size 1200x1000 with 1 Axes>"
            ],
            "image/png": "[encoded data removed]"
          },
          "metadata": {}
        }
      ]
    },
    {
      "cell_type": "code",
      "source": [
        "# Kesimpulan\n",
        "print(\"\\n--- Kesimpulan ---\")\n",
        "print(\"Proyek Capstone ini berhasil mendemonstrasikan efektivitas penggunaan model IBM Granite untuk klasifikasi dan ringkasan data keluhan konsumen keuangan. Dengan penyesuaian parameter yang cermat, output model menjadi lebih konsisten, presisi, dan relevan dengan kebutuhan *stakeholder*.  Proses ini tidak hanya mengotomatisasi analisis teks yang kompleks tetapi juga memungkinkan ekstraksi wawasan yang lebih cepat dan akurat dari volume data yang besar.\")\n",
        "print(\"Model menunjukkan kemampuannya dalam mengidentifikasi kategori produk dan isu utama, serta meringkas narasi keluhan menjadi poin-poin penting.\")\n",
        "\n",
        "# Rekomendasi\n",
        "print(\"\\n--- Rekomendasi ---\")\n",
        "print(\"Berdasarkan analisis keluhan konsumen dan kemampuan model IBM Granite, berikut adalah beberapa rekomendasi:\")\n",
        "print(\"1. **Fokus Perbaikan Layanan:** Prioritaskan perbaikan dan pengawasan pada produk 'Credit reporting, credit repair services, or other personal consumer reports' dan 'Mortgage', karena ini adalah area dengan keluhan terbanyak.\")\n",
        "print(\"2. **Perbaiki Proses Investigasi:** Tingkatkan proses investigasi dan koreksi informasi pada laporan kredit, mengingat isu 'Incorrect information on credit report' dan 'Problem with a credit reporting company's investigation into an existing account' sangat dominan.\")\n",
        "print(\"3. **Integrasi AI untuk Tim Dukungan Pelanggan:** Pertimbangkan untuk mengintegrasikan model ringkasan AI ini ke dalam *workflow* tim dukungan pelanggan untuk membantu agen dengan cepat memahami inti keluhan, mengurangi waktu respons, dan meningkatkan efisiensi.\")\n",
        "print(\"4. **Analisis Sentimen Lebih Lanjut:** Kembangkan kemampuan analisis sentimen (positif, negatif, campuran) pada narasi keluhan untuk mendapatkan pemahaman yang lebih dalam tentang emosi dan frustrasi pelanggan.\")\n",
        "print(\"5. **Pemantauan Berkelanjutan:** Lakukan pemantauan berkelanjutan terhadap output model dan sesuaikan parameter secara berkala jika ada perubahan dalam karakteristik data keluhan atau kebutuhan *stakeholder*.\")"
      ],
      "metadata": {
        "colab": {
          "base_uri": "https://localhost:8080/"
        },
        "id": "zOChymv8xL-L",
        "outputId": "35a3d944-fdd8-4956-9be1-68f5e06cde3c"
      },
      "execution_count": 26,
      "outputs": [
        {
          "output_type": "stream",
          "name": "stdout",
          "text": [
            "\n",
            "--- Kesimpulan ---\n",
            "Proyek Capstone ini berhasil mendemonstrasikan efektivitas penggunaan model IBM Granite untuk klasifikasi dan ringkasan data keluhan konsumen keuangan. Dengan penyesuaian parameter yang cermat, output model menjadi lebih konsisten, presisi, dan relevan dengan kebutuhan *stakeholder*.  Proses ini tidak hanya mengotomatisasi analisis teks yang kompleks tetapi juga memungkinkan ekstraksi wawasan yang lebih cepat dan akurat dari volume data yang besar.\n",
            "Model menunjukkan kemampuannya dalam mengidentifikasi kategori produk dan isu utama, serta meringkas narasi keluhan menjadi poin-poin penting.\n",
            "\n",
            "--- Rekomendasi ---\n",
            "Berdasarkan analisis keluhan konsumen dan kemampuan model IBM Granite, berikut adalah beberapa rekomendasi:\n",
            "1. **Fokus Perbaikan Layanan:** Prioritaskan perbaikan dan pengawasan pada produk 'Credit reporting, credit repair services, or other personal consumer reports' dan 'Mortgage', karena ini adalah area dengan keluhan terbanyak.\n",
            "2. **Perbaiki Proses Investigasi:** Tingkatkan proses investigasi dan koreksi informasi pada laporan kredit, mengingat isu 'Incorrect information on credit report' dan 'Problem with a credit reporting company's investigation into an existing account' sangat dominan.\n",
            "3. **Integrasi AI untuk Tim Dukungan Pelanggan:** Pertimbangkan untuk mengintegrasikan model ringkasan AI ini ke dalam *workflow* tim dukungan pelanggan untuk membantu agen dengan cepat memahami inti keluhan, mengurangi waktu respons, dan meningkatkan efisiensi.\n",
            "4. **Analisis Sentimen Lebih Lanjut:** Kembangkan kemampuan analisis sentimen (positif, negatif, campuran) pada narasi keluhan untuk mendapatkan pemahaman yang lebih dalam tentang emosi dan frustrasi pelanggan.\n",
            "5. **Pemantauan Berkelanjutan:** Lakukan pemantauan berkelanjutan terhadap output model dan sesuaikan parameter secara berkala jika ada perubahan dalam karakteristik data keluhan atau kebutuhan *stakeholder*.\n"
          ]
        }
      ]
    },
    {
      "cell_type": "code",
      "source": [],
      "metadata": {
        "id": "45X_Z3cO0218"
      },
      "execution_count": null,
      "outputs": []
    }
  ]
}